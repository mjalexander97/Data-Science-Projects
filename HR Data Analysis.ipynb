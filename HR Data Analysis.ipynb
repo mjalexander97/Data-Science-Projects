{
 "cells": [
  {
   "cell_type": "markdown",
   "id": "9e7a55fb",
   "metadata": {},
   "source": [
    "# HR Data Analysis\n",
    "\n",
    "## Introduction\n",
    "The following dataset contains employee profile data such as satisfaction level at the company, evaluation scores, the department in which they work, and whether the employee left the company, among other variables. I stumbled upon this dataset on Kaggle and thought it would be interesting to explore from a business perspective. For example, if a Human Resources department wanted to examine the general contentment of the company employees and determine if any changes to policies needed to be made. \n",
    "\n",
    "## Dataset \n",
    "The dataset can be found at the following link: https://www.kaggle.com/jacksonchou/hr-data-for-analytics.\n",
    "The data being measured are as follows:\n",
    "- **Satisfaction level**: a value between 0 and 1 that measures the satisfaction level of the employee\n",
    "- **Last evaluation**: the score of the employee's last evaluation from an employee review\n",
    "- **Number of projects**: number of projects the employee has worked on while at the company\n",
    "- **Average monthly hours**: average hours of work per month\n",
    "- **Time spent at company**: number of years employee has been at the company\n",
    "- **Work accident**: binary value denoting whether the employee has been in a work accident\n",
    "- **Left**: binary value denoting whether the employee has left the company\n",
    "- **Promotion** last 5 years: binary value denoting whether the employee has received a promotion in the last 5 years\n",
    "- **Sales**: department that the employee works in\n",
    "- **Salary**: measurement of the employee's salary (low, medium, high)\n",
    "\n",
    "Some questions I'm interested in exploring: \n",
    "- What variables affect satisfaction level the most? What factors affect the decision to leave the most?\n",
    "- What department sees the highest rate of dissatisfied employees (employees who end up leaving)?\n",
    "- What would you recommend the company change to help with employee retention?\n",
    "\n",
    "\n",
    "## Exploratory Data Analysis"
   ]
  },
  {
   "cell_type": "code",
   "execution_count": 1,
   "id": "d0c0fb5d",
   "metadata": {},
   "outputs": [],
   "source": [
    "# import necessary libraries\n",
    "import os \n",
    "import pandas as pd\n",
    "import numpy as np\n",
    "import seaborn as sns\n",
    "import matplotlib\n",
    "import matplotlib.pyplot as plt \n",
    "import scipy.stats as stats\n",
    "from scipy.stats import chi2_contingency\n",
    "import warnings\n",
    "%matplotlib inline\n",
    "pd.set_option(\"display.max_rows\", None, \"display.max_columns\", None)\n",
    "warnings.filterwarnings(\"always\")\n",
    "warnings.filterwarnings(\"ignore\")"
   ]
  },
  {
   "cell_type": "code",
   "execution_count": 2,
   "id": "a7cf26e3",
   "metadata": {},
   "outputs": [
    {
     "data": {
      "text/html": [
       "<div>\n",
       "<style scoped>\n",
       "    .dataframe tbody tr th:only-of-type {\n",
       "        vertical-align: middle;\n",
       "    }\n",
       "\n",
       "    .dataframe tbody tr th {\n",
       "        vertical-align: top;\n",
       "    }\n",
       "\n",
       "    .dataframe thead th {\n",
       "        text-align: right;\n",
       "    }\n",
       "</style>\n",
       "<table border=\"1\" class=\"dataframe\">\n",
       "  <thead>\n",
       "    <tr style=\"text-align: right;\">\n",
       "      <th></th>\n",
       "      <th>satisfaction_level</th>\n",
       "      <th>last_evaluation</th>\n",
       "      <th>number_project</th>\n",
       "      <th>average_montly_hours</th>\n",
       "      <th>time_spend_company</th>\n",
       "      <th>Work_accident</th>\n",
       "      <th>left</th>\n",
       "      <th>promotion_last_5years</th>\n",
       "      <th>sales</th>\n",
       "      <th>salary</th>\n",
       "    </tr>\n",
       "  </thead>\n",
       "  <tbody>\n",
       "    <tr>\n",
       "      <th>0</th>\n",
       "      <td>0.38</td>\n",
       "      <td>0.53</td>\n",
       "      <td>2</td>\n",
       "      <td>157</td>\n",
       "      <td>3</td>\n",
       "      <td>0</td>\n",
       "      <td>1</td>\n",
       "      <td>0</td>\n",
       "      <td>sales</td>\n",
       "      <td>low</td>\n",
       "    </tr>\n",
       "    <tr>\n",
       "      <th>1</th>\n",
       "      <td>0.80</td>\n",
       "      <td>0.86</td>\n",
       "      <td>5</td>\n",
       "      <td>262</td>\n",
       "      <td>6</td>\n",
       "      <td>0</td>\n",
       "      <td>1</td>\n",
       "      <td>0</td>\n",
       "      <td>sales</td>\n",
       "      <td>medium</td>\n",
       "    </tr>\n",
       "    <tr>\n",
       "      <th>2</th>\n",
       "      <td>0.11</td>\n",
       "      <td>0.88</td>\n",
       "      <td>7</td>\n",
       "      <td>272</td>\n",
       "      <td>4</td>\n",
       "      <td>0</td>\n",
       "      <td>1</td>\n",
       "      <td>0</td>\n",
       "      <td>sales</td>\n",
       "      <td>medium</td>\n",
       "    </tr>\n",
       "    <tr>\n",
       "      <th>3</th>\n",
       "      <td>0.72</td>\n",
       "      <td>0.87</td>\n",
       "      <td>5</td>\n",
       "      <td>223</td>\n",
       "      <td>5</td>\n",
       "      <td>0</td>\n",
       "      <td>1</td>\n",
       "      <td>0</td>\n",
       "      <td>sales</td>\n",
       "      <td>low</td>\n",
       "    </tr>\n",
       "    <tr>\n",
       "      <th>4</th>\n",
       "      <td>0.37</td>\n",
       "      <td>0.52</td>\n",
       "      <td>2</td>\n",
       "      <td>159</td>\n",
       "      <td>3</td>\n",
       "      <td>0</td>\n",
       "      <td>1</td>\n",
       "      <td>0</td>\n",
       "      <td>sales</td>\n",
       "      <td>low</td>\n",
       "    </tr>\n",
       "    <tr>\n",
       "      <th>5</th>\n",
       "      <td>0.41</td>\n",
       "      <td>0.50</td>\n",
       "      <td>2</td>\n",
       "      <td>153</td>\n",
       "      <td>3</td>\n",
       "      <td>0</td>\n",
       "      <td>1</td>\n",
       "      <td>0</td>\n",
       "      <td>sales</td>\n",
       "      <td>low</td>\n",
       "    </tr>\n",
       "    <tr>\n",
       "      <th>6</th>\n",
       "      <td>0.10</td>\n",
       "      <td>0.77</td>\n",
       "      <td>6</td>\n",
       "      <td>247</td>\n",
       "      <td>4</td>\n",
       "      <td>0</td>\n",
       "      <td>1</td>\n",
       "      <td>0</td>\n",
       "      <td>sales</td>\n",
       "      <td>low</td>\n",
       "    </tr>\n",
       "    <tr>\n",
       "      <th>7</th>\n",
       "      <td>0.92</td>\n",
       "      <td>0.85</td>\n",
       "      <td>5</td>\n",
       "      <td>259</td>\n",
       "      <td>5</td>\n",
       "      <td>0</td>\n",
       "      <td>1</td>\n",
       "      <td>0</td>\n",
       "      <td>sales</td>\n",
       "      <td>low</td>\n",
       "    </tr>\n",
       "    <tr>\n",
       "      <th>8</th>\n",
       "      <td>0.89</td>\n",
       "      <td>1.00</td>\n",
       "      <td>5</td>\n",
       "      <td>224</td>\n",
       "      <td>5</td>\n",
       "      <td>0</td>\n",
       "      <td>1</td>\n",
       "      <td>0</td>\n",
       "      <td>sales</td>\n",
       "      <td>low</td>\n",
       "    </tr>\n",
       "    <tr>\n",
       "      <th>9</th>\n",
       "      <td>0.42</td>\n",
       "      <td>0.53</td>\n",
       "      <td>2</td>\n",
       "      <td>142</td>\n",
       "      <td>3</td>\n",
       "      <td>0</td>\n",
       "      <td>1</td>\n",
       "      <td>0</td>\n",
       "      <td>sales</td>\n",
       "      <td>low</td>\n",
       "    </tr>\n",
       "  </tbody>\n",
       "</table>\n",
       "</div>"
      ],
      "text/plain": [
       "   satisfaction_level  last_evaluation  number_project  average_montly_hours  \\\n",
       "0                0.38             0.53               2                   157   \n",
       "1                0.80             0.86               5                   262   \n",
       "2                0.11             0.88               7                   272   \n",
       "3                0.72             0.87               5                   223   \n",
       "4                0.37             0.52               2                   159   \n",
       "5                0.41             0.50               2                   153   \n",
       "6                0.10             0.77               6                   247   \n",
       "7                0.92             0.85               5                   259   \n",
       "8                0.89             1.00               5                   224   \n",
       "9                0.42             0.53               2                   142   \n",
       "\n",
       "   time_spend_company  Work_accident  left  promotion_last_5years  sales  \\\n",
       "0                   3              0     1                      0  sales   \n",
       "1                   6              0     1                      0  sales   \n",
       "2                   4              0     1                      0  sales   \n",
       "3                   5              0     1                      0  sales   \n",
       "4                   3              0     1                      0  sales   \n",
       "5                   3              0     1                      0  sales   \n",
       "6                   4              0     1                      0  sales   \n",
       "7                   5              0     1                      0  sales   \n",
       "8                   5              0     1                      0  sales   \n",
       "9                   3              0     1                      0  sales   \n",
       "\n",
       "   salary  \n",
       "0     low  \n",
       "1  medium  \n",
       "2  medium  \n",
       "3     low  \n",
       "4     low  \n",
       "5     low  \n",
       "6     low  \n",
       "7     low  \n",
       "8     low  \n",
       "9     low  "
      ]
     },
     "execution_count": 2,
     "metadata": {},
     "output_type": "execute_result"
    }
   ],
   "source": [
    "df = pd.read_csv('/Users/michealalexander/Desktop/HR Analytics/HR_comma_sep.csv')\n",
    "df.head(10)"
   ]
  },
  {
   "cell_type": "code",
   "execution_count": 3,
   "id": "66414172",
   "metadata": {},
   "outputs": [
    {
     "data": {
      "text/plain": [
       "(14999, 10)"
      ]
     },
     "execution_count": 3,
     "metadata": {},
     "output_type": "execute_result"
    }
   ],
   "source": [
    "df.shape"
   ]
  },
  {
   "cell_type": "code",
   "execution_count": 4,
   "id": "ac4e131f",
   "metadata": {},
   "outputs": [
    {
     "data": {
      "text/html": [
       "<div>\n",
       "<style scoped>\n",
       "    .dataframe tbody tr th:only-of-type {\n",
       "        vertical-align: middle;\n",
       "    }\n",
       "\n",
       "    .dataframe tbody tr th {\n",
       "        vertical-align: top;\n",
       "    }\n",
       "\n",
       "    .dataframe thead th {\n",
       "        text-align: right;\n",
       "    }\n",
       "</style>\n",
       "<table border=\"1\" class=\"dataframe\">\n",
       "  <thead>\n",
       "    <tr style=\"text-align: right;\">\n",
       "      <th></th>\n",
       "      <th>satisfaction_level</th>\n",
       "      <th>last_evaluation</th>\n",
       "      <th>number_project</th>\n",
       "      <th>average_montly_hours</th>\n",
       "      <th>time_spend_company</th>\n",
       "      <th>Work_accident</th>\n",
       "      <th>left</th>\n",
       "      <th>promotion_last_5years</th>\n",
       "    </tr>\n",
       "  </thead>\n",
       "  <tbody>\n",
       "    <tr>\n",
       "      <th>count</th>\n",
       "      <td>14999.000000</td>\n",
       "      <td>14999.000000</td>\n",
       "      <td>14999.000000</td>\n",
       "      <td>14999.000000</td>\n",
       "      <td>14999.000000</td>\n",
       "      <td>14999.000000</td>\n",
       "      <td>14999.000000</td>\n",
       "      <td>14999.000000</td>\n",
       "    </tr>\n",
       "    <tr>\n",
       "      <th>mean</th>\n",
       "      <td>0.612834</td>\n",
       "      <td>0.716102</td>\n",
       "      <td>3.803054</td>\n",
       "      <td>201.050337</td>\n",
       "      <td>3.498233</td>\n",
       "      <td>0.144610</td>\n",
       "      <td>0.238083</td>\n",
       "      <td>0.021268</td>\n",
       "    </tr>\n",
       "    <tr>\n",
       "      <th>std</th>\n",
       "      <td>0.248631</td>\n",
       "      <td>0.171169</td>\n",
       "      <td>1.232592</td>\n",
       "      <td>49.943099</td>\n",
       "      <td>1.460136</td>\n",
       "      <td>0.351719</td>\n",
       "      <td>0.425924</td>\n",
       "      <td>0.144281</td>\n",
       "    </tr>\n",
       "    <tr>\n",
       "      <th>min</th>\n",
       "      <td>0.090000</td>\n",
       "      <td>0.360000</td>\n",
       "      <td>2.000000</td>\n",
       "      <td>96.000000</td>\n",
       "      <td>2.000000</td>\n",
       "      <td>0.000000</td>\n",
       "      <td>0.000000</td>\n",
       "      <td>0.000000</td>\n",
       "    </tr>\n",
       "    <tr>\n",
       "      <th>25%</th>\n",
       "      <td>0.440000</td>\n",
       "      <td>0.560000</td>\n",
       "      <td>3.000000</td>\n",
       "      <td>156.000000</td>\n",
       "      <td>3.000000</td>\n",
       "      <td>0.000000</td>\n",
       "      <td>0.000000</td>\n",
       "      <td>0.000000</td>\n",
       "    </tr>\n",
       "    <tr>\n",
       "      <th>50%</th>\n",
       "      <td>0.640000</td>\n",
       "      <td>0.720000</td>\n",
       "      <td>4.000000</td>\n",
       "      <td>200.000000</td>\n",
       "      <td>3.000000</td>\n",
       "      <td>0.000000</td>\n",
       "      <td>0.000000</td>\n",
       "      <td>0.000000</td>\n",
       "    </tr>\n",
       "    <tr>\n",
       "      <th>75%</th>\n",
       "      <td>0.820000</td>\n",
       "      <td>0.870000</td>\n",
       "      <td>5.000000</td>\n",
       "      <td>245.000000</td>\n",
       "      <td>4.000000</td>\n",
       "      <td>0.000000</td>\n",
       "      <td>0.000000</td>\n",
       "      <td>0.000000</td>\n",
       "    </tr>\n",
       "    <tr>\n",
       "      <th>max</th>\n",
       "      <td>1.000000</td>\n",
       "      <td>1.000000</td>\n",
       "      <td>7.000000</td>\n",
       "      <td>310.000000</td>\n",
       "      <td>10.000000</td>\n",
       "      <td>1.000000</td>\n",
       "      <td>1.000000</td>\n",
       "      <td>1.000000</td>\n",
       "    </tr>\n",
       "  </tbody>\n",
       "</table>\n",
       "</div>"
      ],
      "text/plain": [
       "       satisfaction_level  last_evaluation  number_project  \\\n",
       "count        14999.000000     14999.000000    14999.000000   \n",
       "mean             0.612834         0.716102        3.803054   \n",
       "std              0.248631         0.171169        1.232592   \n",
       "min              0.090000         0.360000        2.000000   \n",
       "25%              0.440000         0.560000        3.000000   \n",
       "50%              0.640000         0.720000        4.000000   \n",
       "75%              0.820000         0.870000        5.000000   \n",
       "max              1.000000         1.000000        7.000000   \n",
       "\n",
       "       average_montly_hours  time_spend_company  Work_accident          left  \\\n",
       "count          14999.000000        14999.000000   14999.000000  14999.000000   \n",
       "mean             201.050337            3.498233       0.144610      0.238083   \n",
       "std               49.943099            1.460136       0.351719      0.425924   \n",
       "min               96.000000            2.000000       0.000000      0.000000   \n",
       "25%              156.000000            3.000000       0.000000      0.000000   \n",
       "50%              200.000000            3.000000       0.000000      0.000000   \n",
       "75%              245.000000            4.000000       0.000000      0.000000   \n",
       "max              310.000000           10.000000       1.000000      1.000000   \n",
       "\n",
       "       promotion_last_5years  \n",
       "count           14999.000000  \n",
       "mean                0.021268  \n",
       "std                 0.144281  \n",
       "min                 0.000000  \n",
       "25%                 0.000000  \n",
       "50%                 0.000000  \n",
       "75%                 0.000000  \n",
       "max                 1.000000  "
      ]
     },
     "execution_count": 4,
     "metadata": {},
     "output_type": "execute_result"
    }
   ],
   "source": [
    "df.describe()"
   ]
  },
  {
   "cell_type": "code",
   "execution_count": 5,
   "id": "b796023c",
   "metadata": {},
   "outputs": [
    {
     "name": "stdout",
     "output_type": "stream",
     "text": [
      "<class 'pandas.core.frame.DataFrame'>\n",
      "RangeIndex: 14999 entries, 0 to 14998\n",
      "Data columns (total 10 columns):\n",
      " #   Column                 Non-Null Count  Dtype  \n",
      "---  ------                 --------------  -----  \n",
      " 0   satisfaction_level     14999 non-null  float64\n",
      " 1   last_evaluation        14999 non-null  float64\n",
      " 2   number_project         14999 non-null  int64  \n",
      " 3   average_montly_hours   14999 non-null  int64  \n",
      " 4   time_spend_company     14999 non-null  int64  \n",
      " 5   Work_accident          14999 non-null  int64  \n",
      " 6   left                   14999 non-null  int64  \n",
      " 7   promotion_last_5years  14999 non-null  int64  \n",
      " 8   sales                  14999 non-null  object \n",
      " 9   salary                 14999 non-null  object \n",
      "dtypes: float64(2), int64(6), object(2)\n",
      "memory usage: 1.1+ MB\n"
     ]
    }
   ],
   "source": [
    "df.info()"
   ]
  },
  {
   "cell_type": "code",
   "execution_count": 6,
   "id": "d53dc7e5",
   "metadata": {},
   "outputs": [],
   "source": [
    "df.rename(columns={'average_montly_hours':'average_monthly_hours', 'sales':'department'}, inplace=True)"
   ]
  },
  {
   "cell_type": "code",
   "execution_count": 7,
   "id": "cee37cbf",
   "metadata": {},
   "outputs": [],
   "source": [
    "# work accident, left, promotion_last_5years, department, and salary variables should not be integers or objects\n",
    "# but categories\n",
    "\n",
    "categorical_vars = ['Work_accident', 'left', 'promotion_last_5years', 'department', 'salary']\n",
    "for category in categorical_vars:\n",
    "    df[category] = df[category].astype('category')"
   ]
  },
  {
   "cell_type": "code",
   "execution_count": 8,
   "id": "3370443b",
   "metadata": {},
   "outputs": [
    {
     "data": {
      "text/plain": [
       "['low', 'medium', 'high']\n",
       "Categories (3, object): ['high', 'low', 'medium']"
      ]
     },
     "execution_count": 8,
     "metadata": {},
     "output_type": "execute_result"
    }
   ],
   "source": [
    "df['salary'].unique()"
   ]
  },
  {
   "cell_type": "code",
   "execution_count": 9,
   "id": "c1210cec",
   "metadata": {},
   "outputs": [
    {
     "data": {
      "text/plain": [
       "['sales', 'accounting', 'hr', 'technical', 'support', 'management', 'IT', 'product_mng', 'marketing', 'RandD']\n",
       "Categories (10, object): ['IT', 'RandD', 'accounting', 'hr', ..., 'product_mng', 'sales', 'support', 'technical']"
      ]
     },
     "execution_count": 9,
     "metadata": {},
     "output_type": "execute_result"
    }
   ],
   "source": [
    "df['department'].unique()"
   ]
  },
  {
   "cell_type": "markdown",
   "id": "a7c75627",
   "metadata": {},
   "source": [
    "### Check for duplicate and null entries"
   ]
  },
  {
   "cell_type": "code",
   "execution_count": 10,
   "id": "0b916260",
   "metadata": {},
   "outputs": [],
   "source": [
    "# check to see if there are duplicate rows in the data\n",
    "duplicate_rows_df = df[df.duplicated(keep='first')]"
   ]
  },
  {
   "cell_type": "code",
   "execution_count": 11,
   "id": "c914b4bb",
   "metadata": {},
   "outputs": [
    {
     "name": "stdout",
     "output_type": "stream",
     "text": [
      "Number of duplicated rows:  3008\n"
     ]
    }
   ],
   "source": [
    "print('Number of duplicated rows: ', duplicate_rows_df.shape[0])"
   ]
  },
  {
   "cell_type": "code",
   "execution_count": 12,
   "id": "50e1b04e",
   "metadata": {},
   "outputs": [
    {
     "data": {
      "text/html": [
       "<div>\n",
       "<style scoped>\n",
       "    .dataframe tbody tr th:only-of-type {\n",
       "        vertical-align: middle;\n",
       "    }\n",
       "\n",
       "    .dataframe tbody tr th {\n",
       "        vertical-align: top;\n",
       "    }\n",
       "\n",
       "    .dataframe thead th {\n",
       "        text-align: right;\n",
       "    }\n",
       "</style>\n",
       "<table border=\"1\" class=\"dataframe\">\n",
       "  <thead>\n",
       "    <tr style=\"text-align: right;\">\n",
       "      <th></th>\n",
       "      <th>satisfaction_level</th>\n",
       "      <th>last_evaluation</th>\n",
       "      <th>number_project</th>\n",
       "      <th>average_monthly_hours</th>\n",
       "      <th>time_spend_company</th>\n",
       "      <th>Work_accident</th>\n",
       "      <th>left</th>\n",
       "      <th>promotion_last_5years</th>\n",
       "      <th>department</th>\n",
       "      <th>salary</th>\n",
       "    </tr>\n",
       "  </thead>\n",
       "  <tbody>\n",
       "    <tr>\n",
       "      <th>396</th>\n",
       "      <td>0.46</td>\n",
       "      <td>0.57</td>\n",
       "      <td>2</td>\n",
       "      <td>139</td>\n",
       "      <td>3</td>\n",
       "      <td>0</td>\n",
       "      <td>1</td>\n",
       "      <td>0</td>\n",
       "      <td>sales</td>\n",
       "      <td>low</td>\n",
       "    </tr>\n",
       "    <tr>\n",
       "      <th>866</th>\n",
       "      <td>0.41</td>\n",
       "      <td>0.46</td>\n",
       "      <td>2</td>\n",
       "      <td>128</td>\n",
       "      <td>3</td>\n",
       "      <td>0</td>\n",
       "      <td>1</td>\n",
       "      <td>0</td>\n",
       "      <td>accounting</td>\n",
       "      <td>low</td>\n",
       "    </tr>\n",
       "    <tr>\n",
       "      <th>1317</th>\n",
       "      <td>0.37</td>\n",
       "      <td>0.51</td>\n",
       "      <td>2</td>\n",
       "      <td>127</td>\n",
       "      <td>3</td>\n",
       "      <td>0</td>\n",
       "      <td>1</td>\n",
       "      <td>0</td>\n",
       "      <td>sales</td>\n",
       "      <td>medium</td>\n",
       "    </tr>\n",
       "    <tr>\n",
       "      <th>1368</th>\n",
       "      <td>0.41</td>\n",
       "      <td>0.52</td>\n",
       "      <td>2</td>\n",
       "      <td>132</td>\n",
       "      <td>3</td>\n",
       "      <td>0</td>\n",
       "      <td>1</td>\n",
       "      <td>0</td>\n",
       "      <td>RandD</td>\n",
       "      <td>low</td>\n",
       "    </tr>\n",
       "    <tr>\n",
       "      <th>1461</th>\n",
       "      <td>0.42</td>\n",
       "      <td>0.53</td>\n",
       "      <td>2</td>\n",
       "      <td>142</td>\n",
       "      <td>3</td>\n",
       "      <td>0</td>\n",
       "      <td>1</td>\n",
       "      <td>0</td>\n",
       "      <td>sales</td>\n",
       "      <td>low</td>\n",
       "    </tr>\n",
       "  </tbody>\n",
       "</table>\n",
       "</div>"
      ],
      "text/plain": [
       "      satisfaction_level  last_evaluation  number_project  \\\n",
       "396                 0.46             0.57               2   \n",
       "866                 0.41             0.46               2   \n",
       "1317                0.37             0.51               2   \n",
       "1368                0.41             0.52               2   \n",
       "1461                0.42             0.53               2   \n",
       "\n",
       "      average_monthly_hours  time_spend_company Work_accident left  \\\n",
       "396                     139                   3             0    1   \n",
       "866                     128                   3             0    1   \n",
       "1317                    127                   3             0    1   \n",
       "1368                    132                   3             0    1   \n",
       "1461                    142                   3             0    1   \n",
       "\n",
       "     promotion_last_5years  department  salary  \n",
       "396                      0       sales     low  \n",
       "866                      0  accounting     low  \n",
       "1317                     0       sales  medium  \n",
       "1368                     0       RandD     low  \n",
       "1461                     0       sales     low  "
      ]
     },
     "execution_count": 12,
     "metadata": {},
     "output_type": "execute_result"
    }
   ],
   "source": [
    "duplicate_rows_df.head()"
   ]
  },
  {
   "cell_type": "code",
   "execution_count": 13,
   "id": "761e74fb",
   "metadata": {},
   "outputs": [],
   "source": [
    "df.drop_duplicates(inplace=True)"
   ]
  },
  {
   "cell_type": "code",
   "execution_count": 14,
   "id": "cece958e",
   "metadata": {},
   "outputs": [
    {
     "data": {
      "text/plain": [
       "(11991, 10)"
      ]
     },
     "execution_count": 14,
     "metadata": {},
     "output_type": "execute_result"
    }
   ],
   "source": [
    "df.shape"
   ]
  },
  {
   "cell_type": "code",
   "execution_count": 15,
   "id": "00a4ab2b",
   "metadata": {},
   "outputs": [
    {
     "data": {
      "text/plain": [
       "satisfaction_level       0\n",
       "last_evaluation          0\n",
       "number_project           0\n",
       "average_monthly_hours    0\n",
       "time_spend_company       0\n",
       "Work_accident            0\n",
       "left                     0\n",
       "promotion_last_5years    0\n",
       "department               0\n",
       "salary                   0\n",
       "dtype: int64"
      ]
     },
     "execution_count": 15,
     "metadata": {},
     "output_type": "execute_result"
    }
   ],
   "source": [
    "# check for NA values\n",
    "df.isnull().sum()"
   ]
  },
  {
   "cell_type": "markdown",
   "id": "a0c70f0c",
   "metadata": {},
   "source": [
    "### Check for outliers"
   ]
  },
  {
   "cell_type": "code",
   "execution_count": 16,
   "id": "4704c386",
   "metadata": {},
   "outputs": [
    {
     "name": "stdout",
     "output_type": "stream",
     "text": [
      "Boxplot of satisfaction_level\n"
     ]
    },
    {
     "data": {
      "image/png": "[encoded data removed]",
      "text/plain": [
       "<Figure size 432x288 with 1 Axes>"
      ]
     },
     "metadata": {
      "needs_background": "light"
     },
     "output_type": "display_data"
    },
    {
     "name": "stdout",
     "output_type": "stream",
     "text": [
      "Boxplot of last_evaluation\n"
     ]
    },
    {
     "data": {
      "image/png": "[encoded data removed]",
      "text/plain": [
       "<Figure size 432x288 with 1 Axes>"
      ]
     },
     "metadata": {
      "needs_background": "light"
     },
     "output_type": "display_data"
    },
    {
     "name": "stdout",
     "output_type": "stream",
     "text": [
      "Boxplot of number_project\n"
     ]
    },
    {
     "data": {
      "image/png": "[encoded data removed]",
      "text/plain": [
       "<Figure size 432x288 with 1 Axes>"
      ]
     },
     "metadata": {
      "needs_background": "light"
     },
     "output_type": "display_data"
    },
    {
     "name": "stdout",
     "output_type": "stream",
     "text": [
      "Boxplot of average_monthly_hours\n"
     ]
    },
    {
     "data": {
      "image/png": "[encoded data removed]",
      "text/plain": [
       "<Figure size 432x288 with 1 Axes>"
      ]
     },
     "metadata": {
      "needs_background": "light"
     },
     "output_type": "display_data"
    },
    {
     "name": "stdout",
     "output_type": "stream",
     "text": [
      "Boxplot of time_spend_company\n"
     ]
    },
    {
     "data": {
      "image/png": "[encoded data removed]",
      "text/plain": [
       "<Figure size 432x288 with 1 Axes>"
      ]
     },
     "metadata": {
      "needs_background": "light"
     },
     "output_type": "display_data"
    }
   ],
   "source": [
    "# check for any outliers that might need to be removed for modeling\n",
    "numerical_variables = ['satisfaction_level', 'last_evaluation', 'number_project', 'average_monthly_hours', 'time_spend_company']\n",
    "for column in numerical_variables:\n",
    "    print('Boxplot of', str(column))\n",
    "    sns.boxplot(df[column])\n",
    "    plt.show()"
   ]
  },
  {
   "cell_type": "markdown",
   "id": "ddace556",
   "metadata": {},
   "source": [
    "It appears that the only variable with outliers is the amount of time spent at the company. The 3rd quartile value is 4 while the maximum in the data is 10. Using the equation Q1 - 1.5(IQR) and Q3 + 1.5(IQR), we know that any values of time spent in the company below 1.5 (there are none) and above 5.5 are considered outliers. \n",
    "\n",
    "Also, the average number of work hours for an employee is extremely high at this company; the average amount for all employees is 201.050337 the 1st quartile is ~160 hours which is what we would expect to be the monthly work hours for an employee who works 40 hours a week."
   ]
  },
  {
   "cell_type": "code",
   "execution_count": 17,
   "id": "2785c725",
   "metadata": {},
   "outputs": [
    {
     "data": {
      "text/html": [
       "<div>\n",
       "<style scoped>\n",
       "    .dataframe tbody tr th:only-of-type {\n",
       "        vertical-align: middle;\n",
       "    }\n",
       "\n",
       "    .dataframe tbody tr th {\n",
       "        vertical-align: top;\n",
       "    }\n",
       "\n",
       "    .dataframe thead th {\n",
       "        text-align: right;\n",
       "    }\n",
       "</style>\n",
       "<table border=\"1\" class=\"dataframe\">\n",
       "  <thead>\n",
       "    <tr style=\"text-align: right;\">\n",
       "      <th></th>\n",
       "      <th>average_monthly_hours</th>\n",
       "    </tr>\n",
       "    <tr>\n",
       "      <th>department</th>\n",
       "      <th></th>\n",
       "    </tr>\n",
       "  </thead>\n",
       "  <tbody>\n",
       "    <tr>\n",
       "      <th>management</th>\n",
       "      <td>201.529817</td>\n",
       "    </tr>\n",
       "    <tr>\n",
       "      <th>RandD</th>\n",
       "      <td>201.291066</td>\n",
       "    </tr>\n",
       "    <tr>\n",
       "      <th>technical</th>\n",
       "      <td>201.115419</td>\n",
       "    </tr>\n",
       "    <tr>\n",
       "      <th>accounting</th>\n",
       "      <td>200.877617</td>\n",
       "    </tr>\n",
       "    <tr>\n",
       "      <th>IT</th>\n",
       "      <td>200.638320</td>\n",
       "    </tr>\n",
       "    <tr>\n",
       "      <th>support</th>\n",
       "      <td>200.627128</td>\n",
       "    </tr>\n",
       "    <tr>\n",
       "      <th>sales</th>\n",
       "      <td>200.242050</td>\n",
       "    </tr>\n",
       "    <tr>\n",
       "      <th>marketing</th>\n",
       "      <td>199.487370</td>\n",
       "    </tr>\n",
       "    <tr>\n",
       "      <th>hr</th>\n",
       "      <td>199.371048</td>\n",
       "    </tr>\n",
       "    <tr>\n",
       "      <th>product_mng</th>\n",
       "      <td>198.893586</td>\n",
       "    </tr>\n",
       "  </tbody>\n",
       "</table>\n",
       "</div>"
      ],
      "text/plain": [
       "             average_monthly_hours\n",
       "department                        \n",
       "management              201.529817\n",
       "RandD                   201.291066\n",
       "technical               201.115419\n",
       "accounting              200.877617\n",
       "IT                      200.638320\n",
       "support                 200.627128\n",
       "sales                   200.242050\n",
       "marketing               199.487370\n",
       "hr                      199.371048\n",
       "product_mng             198.893586"
      ]
     },
     "execution_count": 17,
     "metadata": {},
     "output_type": "execute_result"
    }
   ],
   "source": [
    "# what department works the most (has the highest average work hours)?\n",
    "pd.DataFrame(df.groupby('department').average_monthly_hours.mean()).sort_values(by='average_monthly_hours', ascending=False)"
   ]
  },
  {
   "cell_type": "markdown",
   "id": "425580fe",
   "metadata": {},
   "source": [
    "All departments seem to work about the same amount."
   ]
  },
  {
   "cell_type": "markdown",
   "id": "f44004e0",
   "metadata": {},
   "source": [
    "### Examine the Distributions of the numerical variables"
   ]
  },
  {
   "cell_type": "code",
   "execution_count": 18,
   "id": "27c0e5fd",
   "metadata": {},
   "outputs": [
    {
     "name": "stdout",
     "output_type": "stream",
     "text": [
      "Distribution of: satisfaction_level\n"
     ]
    },
    {
     "data": {
      "image/png": "[encoded data removed]",
      "text/plain": [
       "<Figure size 432x288 with 1 Axes>"
      ]
     },
     "metadata": {
      "needs_background": "light"
     },
     "output_type": "display_data"
    },
    {
     "name": "stdout",
     "output_type": "stream",
     "text": [
      "Distribution of: last_evaluation\n"
     ]
    },
    {
     "data": {
      "image/png": "[encoded data removed]",
      "text/plain": [
       "<Figure size 432x288 with 1 Axes>"
      ]
     },
     "metadata": {
      "needs_background": "light"
     },
     "output_type": "display_data"
    },
    {
     "name": "stdout",
     "output_type": "stream",
     "text": [
      "Distribution of: number_project\n"
     ]
    },
    {
     "data": {
      "image/png": "[encoded data removed]",
      "text/plain": [
       "<Figure size 432x288 with 1 Axes>"
      ]
     },
     "metadata": {
      "needs_background": "light"
     },
     "output_type": "display_data"
    },
    {
     "name": "stdout",
     "output_type": "stream",
     "text": [
      "Distribution of: average_monthly_hours\n"
     ]
    },
    {
     "data": {
      "image/png": "[encoded data removed]",
      "text/plain": [
       "<Figure size 432x288 with 1 Axes>"
      ]
     },
     "metadata": {
      "needs_background": "light"
     },
     "output_type": "display_data"
    },
    {
     "name": "stdout",
     "output_type": "stream",
     "text": [
      "Distribution of: time_spend_company\n"
     ]
    },
    {
     "data": {
      "image/png": "[encoded data removed]",
      "text/plain": [
       "<Figure size 432x288 with 1 Axes>"
      ]
     },
     "metadata": {
      "needs_background": "light"
     },
     "output_type": "display_data"
    }
   ],
   "source": [
    "# check the distributions for each of the numerical variables\n",
    "for i in numerical_variables: \n",
    "    print('Distribution of:', str(i))\n",
    "    sns.distplot(df[i])\n",
    "    #plt.xticks(rotation=45)\n",
    "    plt.show()"
   ]
  },
  {
   "cell_type": "markdown",
   "id": "7c3530f5",
   "metadata": {},
   "source": [
    "None of the numerical variables are normally distributed; previous evaluataion scores and average monthly hours appear to be bimodal distributions while satisfaction levels are skewed left."
   ]
  },
  {
   "cell_type": "markdown",
   "id": "1ab4f1d8",
   "metadata": {},
   "source": [
    "### Correlation between numerical variables"
   ]
  },
  {
   "cell_type": "code",
   "execution_count": 19,
   "id": "e5cae59a",
   "metadata": {},
   "outputs": [
    {
     "data": {
      "text/plain": [
       "<AxesSubplot:>"
      ]
     },
     "execution_count": 19,
     "metadata": {},
     "output_type": "execute_result"
    },
    {
     "data": {
      "image/png": "[encoded data removed]",
      "text/plain": [
       "<Figure size 432x288 with 2 Axes>"
      ]
     },
     "metadata": {
      "needs_background": "light"
     },
     "output_type": "display_data"
    }
   ],
   "source": [
    "sns.heatmap(df.corr(), annot = True)"
   ]
  },
  {
   "cell_type": "markdown",
   "id": "89cffcaf",
   "metadata": {},
   "source": [
    "It looks like there is not a strong correlation between any of the numerical variables. With respect to satisfaction level, there is not a significant positive or negative correlation with the other variables."
   ]
  },
  {
   "cell_type": "markdown",
   "id": "efa812fc",
   "metadata": {},
   "source": [
    "### Categorical Variable counts\n",
    "\n",
    "I'm also interested in investigating the relationship between the categorical variables:"
   ]
  },
  {
   "cell_type": "code",
   "execution_count": 20,
   "id": "b9e1f376",
   "metadata": {},
   "outputs": [
    {
     "name": "stdout",
     "output_type": "stream",
     "text": [
      "Counts of: Work_accident\n"
     ]
    },
    {
     "data": {
      "image/png": "[encoded data removed]",
      "text/plain": [
       "<Figure size 432x288 with 1 Axes>"
      ]
     },
     "metadata": {
      "needs_background": "light"
     },
     "output_type": "display_data"
    },
    {
     "name": "stdout",
     "output_type": "stream",
     "text": [
      "Counts of: left\n"
     ]
    },
    {
     "data": {
      "image/png": "[encoded data removed]",
      "text/plain": [
       "<Figure size 432x288 with 1 Axes>"
      ]
     },
     "metadata": {
      "needs_background": "light"
     },
     "output_type": "display_data"
    },
    {
     "name": "stdout",
     "output_type": "stream",
     "text": [
      "Counts of: promotion_last_5years\n"
     ]
    },
    {
     "data": {
      "image/png": "[encoded data removed]",
      "text/plain": [
       "<Figure size 432x288 with 1 Axes>"
      ]
     },
     "metadata": {
      "needs_background": "light"
     },
     "output_type": "display_data"
    },
    {
     "name": "stdout",
     "output_type": "stream",
     "text": [
      "Counts of: department\n"
     ]
    },
    {
     "data": {
      "image/png": "[encoded data removed]",
      "text/plain": [
       "<Figure size 432x288 with 1 Axes>"
      ]
     },
     "metadata": {
      "needs_background": "light"
     },
     "output_type": "display_data"
    },
    {
     "name": "stdout",
     "output_type": "stream",
     "text": [
      "Counts of: salary\n"
     ]
    },
    {
     "data": {
      "image/png": "[encoded data removed]",
      "text/plain": [
       "<Figure size 432x288 with 1 Axes>"
      ]
     },
     "metadata": {
      "needs_background": "light"
     },
     "output_type": "display_data"
    }
   ],
   "source": [
    "# check the counts for certain categorical variables\n",
    "columns = df.columns\n",
    "for i in columns:\n",
    "    if i not in numerical_variables:\n",
    "        print('Counts of:', i)\n",
    "        ax = sns.barplot(x = df[i].value_counts().index, y = df[i].value_counts().values)\n",
    "        ax.bar_label(ax.containers[0])\n",
    "        plt.xticks(rotation=45)\n",
    "        plt.show()"
   ]
  },
  {
   "cell_type": "code",
   "execution_count": 21,
   "id": "8dc1e0d0",
   "metadata": {},
   "outputs": [
    {
     "name": "stdout",
     "output_type": "stream",
     "text": [
      "Employee retention at this company is: 83.4%\n"
     ]
    }
   ],
   "source": [
    "employee_retention = (10000)/(10000+1991)\n",
    "print('Employee retention at this company is: {}%'.format(round(employee_retention*100, 2)))"
   ]
  },
  {
   "cell_type": "code",
   "execution_count": 22,
   "id": "8d117f04",
   "metadata": {},
   "outputs": [
    {
     "data": {
      "text/html": [
       "<div>\n",
       "<style scoped>\n",
       "    .dataframe tbody tr th:only-of-type {\n",
       "        vertical-align: middle;\n",
       "    }\n",
       "\n",
       "    .dataframe tbody tr th {\n",
       "        vertical-align: top;\n",
       "    }\n",
       "\n",
       "    .dataframe thead th {\n",
       "        text-align: right;\n",
       "    }\n",
       "</style>\n",
       "<table border=\"1\" class=\"dataframe\">\n",
       "  <thead>\n",
       "    <tr style=\"text-align: right;\">\n",
       "      <th>left</th>\n",
       "      <th>0</th>\n",
       "      <th>1</th>\n",
       "    </tr>\n",
       "    <tr>\n",
       "      <th>department</th>\n",
       "      <th></th>\n",
       "      <th></th>\n",
       "    </tr>\n",
       "  </thead>\n",
       "  <tbody>\n",
       "    <tr>\n",
       "      <th>sales</th>\n",
       "      <td>2689</td>\n",
       "      <td>550</td>\n",
       "    </tr>\n",
       "    <tr>\n",
       "      <th>technical</th>\n",
       "      <td>1854</td>\n",
       "      <td>390</td>\n",
       "    </tr>\n",
       "    <tr>\n",
       "      <th>support</th>\n",
       "      <td>1509</td>\n",
       "      <td>312</td>\n",
       "    </tr>\n",
       "    <tr>\n",
       "      <th>IT</th>\n",
       "      <td>818</td>\n",
       "      <td>158</td>\n",
       "    </tr>\n",
       "    <tr>\n",
       "      <th>hr</th>\n",
       "      <td>488</td>\n",
       "      <td>113</td>\n",
       "    </tr>\n",
       "    <tr>\n",
       "      <th>marketing</th>\n",
       "      <td>561</td>\n",
       "      <td>112</td>\n",
       "    </tr>\n",
       "    <tr>\n",
       "      <th>product_mng</th>\n",
       "      <td>576</td>\n",
       "      <td>110</td>\n",
       "    </tr>\n",
       "    <tr>\n",
       "      <th>accounting</th>\n",
       "      <td>512</td>\n",
       "      <td>109</td>\n",
       "    </tr>\n",
       "    <tr>\n",
       "      <th>RandD</th>\n",
       "      <td>609</td>\n",
       "      <td>85</td>\n",
       "    </tr>\n",
       "    <tr>\n",
       "      <th>management</th>\n",
       "      <td>384</td>\n",
       "      <td>52</td>\n",
       "    </tr>\n",
       "  </tbody>\n",
       "</table>\n",
       "</div>"
      ],
      "text/plain": [
       "left            0    1\n",
       "department            \n",
       "sales        2689  550\n",
       "technical    1854  390\n",
       "support      1509  312\n",
       "IT            818  158\n",
       "hr            488  113\n",
       "marketing     561  112\n",
       "product_mng   576  110\n",
       "accounting    512  109\n",
       "RandD         609   85\n",
       "management    384   52"
      ]
     },
     "execution_count": 22,
     "metadata": {},
     "output_type": "execute_result"
    }
   ],
   "source": [
    "# calculate the number of people who left in each department\n",
    "pd.crosstab(df.department, df.left).sort_values(by=1, ascending=False)"
   ]
  },
  {
   "cell_type": "markdown",
   "id": "1ca3467e",
   "metadata": {},
   "source": [
    "If there was no significant difference between the departments and whether someone chooses to leave, we would expect the number of people who leave in each department to be proportional to the size of the department. However, this is only the case for the first 4 departments (sales, technical, support and IT) which are the largest departments. We would expect R&D to have the next highest number of employees who leave but it is actually Human Resources, which has the second lowest number of employees after management. This poses the question, why are so many people leaving the HR department? I will investigate whether leaving and the department one works in are significantly dependent on each other further down."
   ]
  },
  {
   "cell_type": "code",
   "execution_count": 23,
   "id": "37ddbf89",
   "metadata": {},
   "outputs": [
    {
     "data": {
      "text/plain": [
       "(1991, 10)"
      ]
     },
     "execution_count": 23,
     "metadata": {},
     "output_type": "execute_result"
    }
   ],
   "source": [
    "# create a dataframe of just employees who have left the company\n",
    "left_df = df[df['left'] == 1]\n",
    "left_df.shape"
   ]
  },
  {
   "cell_type": "code",
   "execution_count": 24,
   "id": "94df0088",
   "metadata": {},
   "outputs": [
    {
     "data": {
      "text/html": [
       "<div>\n",
       "<style scoped>\n",
       "    .dataframe tbody tr th:only-of-type {\n",
       "        vertical-align: middle;\n",
       "    }\n",
       "\n",
       "    .dataframe tbody tr th {\n",
       "        vertical-align: top;\n",
       "    }\n",
       "\n",
       "    .dataframe thead th {\n",
       "        text-align: right;\n",
       "    }\n",
       "</style>\n",
       "<table border=\"1\" class=\"dataframe\">\n",
       "  <thead>\n",
       "    <tr style=\"text-align: right;\">\n",
       "      <th></th>\n",
       "      <th>department</th>\n",
       "    </tr>\n",
       "  </thead>\n",
       "  <tbody>\n",
       "    <tr>\n",
       "      <th>hr</th>\n",
       "      <td>0.188</td>\n",
       "    </tr>\n",
       "    <tr>\n",
       "      <th>accounting</th>\n",
       "      <td>0.176</td>\n",
       "    </tr>\n",
       "    <tr>\n",
       "      <th>technical</th>\n",
       "      <td>0.174</td>\n",
       "    </tr>\n",
       "    <tr>\n",
       "      <th>support</th>\n",
       "      <td>0.171</td>\n",
       "    </tr>\n",
       "    <tr>\n",
       "      <th>sales</th>\n",
       "      <td>0.170</td>\n",
       "    </tr>\n",
       "    <tr>\n",
       "      <th>marketing</th>\n",
       "      <td>0.166</td>\n",
       "    </tr>\n",
       "    <tr>\n",
       "      <th>IT</th>\n",
       "      <td>0.162</td>\n",
       "    </tr>\n",
       "    <tr>\n",
       "      <th>product_mng</th>\n",
       "      <td>0.160</td>\n",
       "    </tr>\n",
       "    <tr>\n",
       "      <th>RandD</th>\n",
       "      <td>0.122</td>\n",
       "    </tr>\n",
       "    <tr>\n",
       "      <th>management</th>\n",
       "      <td>0.119</td>\n",
       "    </tr>\n",
       "  </tbody>\n",
       "</table>\n",
       "</div>"
      ],
      "text/plain": [
       "             department\n",
       "hr                0.188\n",
       "accounting        0.176\n",
       "technical         0.174\n",
       "support           0.171\n",
       "sales             0.170\n",
       "marketing         0.166\n",
       "IT                0.162\n",
       "product_mng       0.160\n",
       "RandD             0.122\n",
       "management        0.119"
      ]
     },
     "execution_count": 24,
     "metadata": {},
     "output_type": "execute_result"
    }
   ],
   "source": [
    "# calculate the percentage of employees that have left each department \n",
    "sector_counts = df['department'].value_counts() # total people in each department\n",
    "sector_left_counts = left_df['department'].value_counts() # number of people who left in each department\n",
    "ratios = round(sector_left_counts/sector_counts, 3)\n",
    "pd.DataFrame(ratios).sort_values(by='department', ascending=False)"
   ]
  },
  {
   "cell_type": "markdown",
   "id": "da7ec41f",
   "metadata": {},
   "source": [
    "The Human Resources department has the highest percentage of employees who leave relative to the size of the department. Management has the lowest departure rate which is not unexpected. However it is worth noting that R&D has the second lowest departure rate, just slightly more than management."
   ]
  },
  {
   "cell_type": "markdown",
   "id": "1de4875d",
   "metadata": {},
   "source": [
    "Now let's look at some of the differences between the departments:"
   ]
  },
  {
   "cell_type": "code",
   "execution_count": 25,
   "id": "83da3831",
   "metadata": {},
   "outputs": [
    {
     "data": {
      "text/html": [
       "<div>\n",
       "<style scoped>\n",
       "    .dataframe tbody tr th:only-of-type {\n",
       "        vertical-align: middle;\n",
       "    }\n",
       "\n",
       "    .dataframe tbody tr th {\n",
       "        vertical-align: top;\n",
       "    }\n",
       "\n",
       "    .dataframe thead th {\n",
       "        text-align: right;\n",
       "    }\n",
       "</style>\n",
       "<table border=\"1\" class=\"dataframe\">\n",
       "  <thead>\n",
       "    <tr style=\"text-align: right;\">\n",
       "      <th></th>\n",
       "      <th>satisfaction_level</th>\n",
       "      <th>last_evaluation</th>\n",
       "      <th>number_project</th>\n",
       "      <th>average_monthly_hours</th>\n",
       "      <th>time_spend_company</th>\n",
       "    </tr>\n",
       "    <tr>\n",
       "      <th>department</th>\n",
       "      <th></th>\n",
       "      <th></th>\n",
       "      <th></th>\n",
       "      <th></th>\n",
       "      <th></th>\n",
       "    </tr>\n",
       "  </thead>\n",
       "  <tbody>\n",
       "    <tr>\n",
       "      <th>support</th>\n",
       "      <td>0.634822</td>\n",
       "      <td>0.722998</td>\n",
       "      <td>3.820977</td>\n",
       "      <td>200.627128</td>\n",
       "      <td>3.292696</td>\n",
       "    </tr>\n",
       "    <tr>\n",
       "      <th>marketing</th>\n",
       "      <td>0.634770</td>\n",
       "      <td>0.718440</td>\n",
       "      <td>3.720654</td>\n",
       "      <td>199.487370</td>\n",
       "      <td>3.421991</td>\n",
       "    </tr>\n",
       "    <tr>\n",
       "      <th>IT</th>\n",
       "      <td>0.634016</td>\n",
       "      <td>0.715051</td>\n",
       "      <td>3.797131</td>\n",
       "      <td>200.638320</td>\n",
       "      <td>3.350410</td>\n",
       "    </tr>\n",
       "    <tr>\n",
       "      <th>management</th>\n",
       "      <td>0.631995</td>\n",
       "      <td>0.726307</td>\n",
       "      <td>3.837156</td>\n",
       "      <td>201.529817</td>\n",
       "      <td>3.981651</td>\n",
       "    </tr>\n",
       "    <tr>\n",
       "      <th>sales</th>\n",
       "      <td>0.631349</td>\n",
       "      <td>0.710398</td>\n",
       "      <td>3.777092</td>\n",
       "      <td>200.242050</td>\n",
       "      <td>3.380673</td>\n",
       "    </tr>\n",
       "    <tr>\n",
       "      <th>product_mng</th>\n",
       "      <td>0.629825</td>\n",
       "      <td>0.713790</td>\n",
       "      <td>3.794461</td>\n",
       "      <td>198.893586</td>\n",
       "      <td>3.341108</td>\n",
       "    </tr>\n",
       "    <tr>\n",
       "      <th>technical</th>\n",
       "      <td>0.627937</td>\n",
       "      <td>0.719791</td>\n",
       "      <td>3.859180</td>\n",
       "      <td>201.115419</td>\n",
       "      <td>3.309269</td>\n",
       "    </tr>\n",
       "    <tr>\n",
       "      <th>RandD</th>\n",
       "      <td>0.627176</td>\n",
       "      <td>0.712983</td>\n",
       "      <td>3.850144</td>\n",
       "      <td>201.291066</td>\n",
       "      <td>3.319885</td>\n",
       "    </tr>\n",
       "    <tr>\n",
       "      <th>hr</th>\n",
       "      <td>0.621947</td>\n",
       "      <td>0.715691</td>\n",
       "      <td>3.675541</td>\n",
       "      <td>199.371048</td>\n",
       "      <td>3.256240</td>\n",
       "    </tr>\n",
       "    <tr>\n",
       "      <th>accounting</th>\n",
       "      <td>0.607939</td>\n",
       "      <td>0.721900</td>\n",
       "      <td>3.834138</td>\n",
       "      <td>200.877617</td>\n",
       "      <td>3.404187</td>\n",
       "    </tr>\n",
       "  </tbody>\n",
       "</table>\n",
       "</div>"
      ],
      "text/plain": [
       "             satisfaction_level  last_evaluation  number_project  \\\n",
       "department                                                         \n",
       "support                0.634822         0.722998        3.820977   \n",
       "marketing              0.634770         0.718440        3.720654   \n",
       "IT                     0.634016         0.715051        3.797131   \n",
       "management             0.631995         0.726307        3.837156   \n",
       "sales                  0.631349         0.710398        3.777092   \n",
       "product_mng            0.629825         0.713790        3.794461   \n",
       "technical              0.627937         0.719791        3.859180   \n",
       "RandD                  0.627176         0.712983        3.850144   \n",
       "hr                     0.621947         0.715691        3.675541   \n",
       "accounting             0.607939         0.721900        3.834138   \n",
       "\n",
       "             average_monthly_hours  time_spend_company  \n",
       "department                                              \n",
       "support                 200.627128            3.292696  \n",
       "marketing               199.487370            3.421991  \n",
       "IT                      200.638320            3.350410  \n",
       "management              201.529817            3.981651  \n",
       "sales                   200.242050            3.380673  \n",
       "product_mng             198.893586            3.341108  \n",
       "technical               201.115419            3.309269  \n",
       "RandD                   201.291066            3.319885  \n",
       "hr                      199.371048            3.256240  \n",
       "accounting              200.877617            3.404187  "
      ]
     },
     "execution_count": 25,
     "metadata": {},
     "output_type": "execute_result"
    }
   ],
   "source": [
    "# checking averages of variables based on department\n",
    "df.groupby(['department']).mean().sort_values(by='satisfaction_level', ascending=False)"
   ]
  },
  {
   "cell_type": "markdown",
   "id": "64df0eb8",
   "metadata": {},
   "source": [
    "The satisfaction levels are all quite close (only a difference of 3% between the highest and lowest values). Satisfaction is highest in support but lowest in accounting. "
   ]
  },
  {
   "cell_type": "code",
   "execution_count": 26,
   "id": "32d53092",
   "metadata": {},
   "outputs": [
    {
     "data": {
      "text/html": [
       "<div>\n",
       "<style scoped>\n",
       "    .dataframe tbody tr th:only-of-type {\n",
       "        vertical-align: middle;\n",
       "    }\n",
       "\n",
       "    .dataframe tbody tr th {\n",
       "        vertical-align: top;\n",
       "    }\n",
       "\n",
       "    .dataframe thead th {\n",
       "        text-align: right;\n",
       "    }\n",
       "</style>\n",
       "<table border=\"1\" class=\"dataframe\">\n",
       "  <thead>\n",
       "    <tr style=\"text-align: right;\">\n",
       "      <th>Work_accident</th>\n",
       "      <th>0</th>\n",
       "      <th>1</th>\n",
       "    </tr>\n",
       "    <tr>\n",
       "      <th>department</th>\n",
       "      <th></th>\n",
       "      <th></th>\n",
       "    </tr>\n",
       "  </thead>\n",
       "  <tbody>\n",
       "    <tr>\n",
       "      <th>IT</th>\n",
       "      <td>837</td>\n",
       "      <td>139</td>\n",
       "    </tr>\n",
       "    <tr>\n",
       "      <th>RandD</th>\n",
       "      <td>575</td>\n",
       "      <td>119</td>\n",
       "    </tr>\n",
       "    <tr>\n",
       "      <th>accounting</th>\n",
       "      <td>534</td>\n",
       "      <td>87</td>\n",
       "    </tr>\n",
       "    <tr>\n",
       "      <th>hr</th>\n",
       "      <td>521</td>\n",
       "      <td>80</td>\n",
       "    </tr>\n",
       "    <tr>\n",
       "      <th>management</th>\n",
       "      <td>364</td>\n",
       "      <td>72</td>\n",
       "    </tr>\n",
       "    <tr>\n",
       "      <th>marketing</th>\n",
       "      <td>565</td>\n",
       "      <td>108</td>\n",
       "    </tr>\n",
       "    <tr>\n",
       "      <th>product_mng</th>\n",
       "      <td>577</td>\n",
       "      <td>109</td>\n",
       "    </tr>\n",
       "    <tr>\n",
       "      <th>sales</th>\n",
       "      <td>2741</td>\n",
       "      <td>498</td>\n",
       "    </tr>\n",
       "    <tr>\n",
       "      <th>support</th>\n",
       "      <td>1522</td>\n",
       "      <td>299</td>\n",
       "    </tr>\n",
       "    <tr>\n",
       "      <th>technical</th>\n",
       "      <td>1905</td>\n",
       "      <td>339</td>\n",
       "    </tr>\n",
       "  </tbody>\n",
       "</table>\n",
       "</div>"
      ],
      "text/plain": [
       "Work_accident     0    1\n",
       "department              \n",
       "IT              837  139\n",
       "RandD           575  119\n",
       "accounting      534   87\n",
       "hr              521   80\n",
       "management      364   72\n",
       "marketing       565  108\n",
       "product_mng     577  109\n",
       "sales          2741  498\n",
       "support        1522  299\n",
       "technical      1905  339"
      ]
     },
     "execution_count": 26,
     "metadata": {},
     "output_type": "execute_result"
    }
   ],
   "source": [
    "pd.crosstab(df.department, df.Work_accident)"
   ]
  },
  {
   "cell_type": "code",
   "execution_count": 27,
   "id": "eee5594c",
   "metadata": {},
   "outputs": [
    {
     "data": {
      "text/html": [
       "<div>\n",
       "<style scoped>\n",
       "    .dataframe tbody tr th:only-of-type {\n",
       "        vertical-align: middle;\n",
       "    }\n",
       "\n",
       "    .dataframe tbody tr th {\n",
       "        vertical-align: top;\n",
       "    }\n",
       "\n",
       "    .dataframe thead th {\n",
       "        text-align: right;\n",
       "    }\n",
       "</style>\n",
       "<table border=\"1\" class=\"dataframe\">\n",
       "  <thead>\n",
       "    <tr style=\"text-align: right;\">\n",
       "      <th>promotion_last_5years</th>\n",
       "      <th>0</th>\n",
       "      <th>1</th>\n",
       "    </tr>\n",
       "    <tr>\n",
       "      <th>department</th>\n",
       "      <th></th>\n",
       "      <th></th>\n",
       "    </tr>\n",
       "  </thead>\n",
       "  <tbody>\n",
       "    <tr>\n",
       "      <th>IT</th>\n",
       "      <td>974</td>\n",
       "      <td>2</td>\n",
       "    </tr>\n",
       "    <tr>\n",
       "      <th>RandD</th>\n",
       "      <td>673</td>\n",
       "      <td>21</td>\n",
       "    </tr>\n",
       "    <tr>\n",
       "      <th>accounting</th>\n",
       "      <td>611</td>\n",
       "      <td>10</td>\n",
       "    </tr>\n",
       "    <tr>\n",
       "      <th>hr</th>\n",
       "      <td>590</td>\n",
       "      <td>11</td>\n",
       "    </tr>\n",
       "    <tr>\n",
       "      <th>management</th>\n",
       "      <td>400</td>\n",
       "      <td>36</td>\n",
       "    </tr>\n",
       "    <tr>\n",
       "      <th>marketing</th>\n",
       "      <td>646</td>\n",
       "      <td>27</td>\n",
       "    </tr>\n",
       "    <tr>\n",
       "      <th>product_mng</th>\n",
       "      <td>686</td>\n",
       "      <td>0</td>\n",
       "    </tr>\n",
       "    <tr>\n",
       "      <th>sales</th>\n",
       "      <td>3181</td>\n",
       "      <td>58</td>\n",
       "    </tr>\n",
       "    <tr>\n",
       "      <th>support</th>\n",
       "      <td>1805</td>\n",
       "      <td>16</td>\n",
       "    </tr>\n",
       "    <tr>\n",
       "      <th>technical</th>\n",
       "      <td>2222</td>\n",
       "      <td>22</td>\n",
       "    </tr>\n",
       "  </tbody>\n",
       "</table>\n",
       "</div>"
      ],
      "text/plain": [
       "promotion_last_5years     0   1\n",
       "department                     \n",
       "IT                      974   2\n",
       "RandD                   673  21\n",
       "accounting              611  10\n",
       "hr                      590  11\n",
       "management              400  36\n",
       "marketing               646  27\n",
       "product_mng             686   0\n",
       "sales                  3181  58\n",
       "support                1805  16\n",
       "technical              2222  22"
      ]
     },
     "execution_count": 27,
     "metadata": {},
     "output_type": "execute_result"
    }
   ],
   "source": [
    "pd.crosstab(df.department, df.promotion_last_5years)"
   ]
  },
  {
   "cell_type": "markdown",
   "id": "40cf5e91",
   "metadata": {},
   "source": [
    "Surprisingly, no one from product management and only 2 people from IT (which is the fourth largest department) have received promotions in the last 5 years. I would also recommend looking into the reasoning behind this."
   ]
  },
  {
   "cell_type": "markdown",
   "id": "cdd8a5a9",
   "metadata": {},
   "source": [
    "Some general statistics about people who leave (note that direct comparisons can't be made with extreme confidence since the number of people who left is about 20% the size of the number of people who stayed):"
   ]
  },
  {
   "cell_type": "code",
   "execution_count": 28,
   "id": "de465c44",
   "metadata": {},
   "outputs": [
    {
     "data": {
      "text/html": [
       "<div>\n",
       "<style scoped>\n",
       "    .dataframe tbody tr th:only-of-type {\n",
       "        vertical-align: middle;\n",
       "    }\n",
       "\n",
       "    .dataframe tbody tr th {\n",
       "        vertical-align: top;\n",
       "    }\n",
       "\n",
       "    .dataframe thead th {\n",
       "        text-align: right;\n",
       "    }\n",
       "</style>\n",
       "<table border=\"1\" class=\"dataframe\">\n",
       "  <thead>\n",
       "    <tr style=\"text-align: right;\">\n",
       "      <th></th>\n",
       "      <th>satisfaction_level</th>\n",
       "      <th>last_evaluation</th>\n",
       "      <th>number_project</th>\n",
       "      <th>average_monthly_hours</th>\n",
       "      <th>time_spend_company</th>\n",
       "    </tr>\n",
       "    <tr>\n",
       "      <th>left</th>\n",
       "      <th></th>\n",
       "      <th></th>\n",
       "      <th></th>\n",
       "      <th></th>\n",
       "      <th></th>\n",
       "    </tr>\n",
       "  </thead>\n",
       "  <tbody>\n",
       "    <tr>\n",
       "      <th>0</th>\n",
       "      <td>0.667365</td>\n",
       "      <td>0.715667</td>\n",
       "      <td>3.786800</td>\n",
       "      <td>198.94270</td>\n",
       "      <td>3.262000</td>\n",
       "    </tr>\n",
       "    <tr>\n",
       "      <th>1</th>\n",
       "      <td>0.440271</td>\n",
       "      <td>0.721783</td>\n",
       "      <td>3.883476</td>\n",
       "      <td>208.16223</td>\n",
       "      <td>3.881467</td>\n",
       "    </tr>\n",
       "  </tbody>\n",
       "</table>\n",
       "</div>"
      ],
      "text/plain": [
       "      satisfaction_level  last_evaluation  number_project  \\\n",
       "left                                                        \n",
       "0               0.667365         0.715667        3.786800   \n",
       "1               0.440271         0.721783        3.883476   \n",
       "\n",
       "      average_monthly_hours  time_spend_company  \n",
       "left                                             \n",
       "0                 198.94270            3.262000  \n",
       "1                 208.16223            3.881467  "
      ]
     },
     "execution_count": 28,
     "metadata": {},
     "output_type": "execute_result"
    }
   ],
   "source": [
    "df.groupby(['left']).mean()"
   ]
  },
  {
   "cell_type": "markdown",
   "id": "cbd6f6f0",
   "metadata": {},
   "source": [
    "These averages make sense; satisfaction levels are very low among people who left. Also people who leave worked on slightly more projects, worked more hours, and were at the company longer on average. Interestingly, previous evaluation scores were slightly higher for people who left compared to those who stayed (perhaps this is related to a lack of promotions?). \n",
    "\n",
    "However, I don't know if any of these differences are significant, so I will use a t-test at significance level 0.05 to determine this. "
   ]
  },
  {
   "cell_type": "code",
   "execution_count": 29,
   "id": "2824a338",
   "metadata": {},
   "outputs": [
    {
     "name": "stdout",
     "output_type": "stream",
     "text": [
      "There is a statistically significant difference in satisfaction_level between employees who left and employees who stayed (t-statistic = 40.98502015841721, p= 0.0).\n",
      "\n",
      "There is not a statistically significant difference in last_evaluation between employees who left and employees who stayed (t-statistic = -1.480487450460807, p= 0.13876948482810622).\n",
      "\n",
      "There is a statistically significant difference in number_project between employees who left and employees who stayed (t-statistic = -3.3880208345839424, p= 0.0007062542110999653).\n",
      "\n",
      "There is a statistically significant difference in average_monthly_hours between employees who left and employees who stayed (t-statistic = -7.7286004860688795, p= 1.1739390712865618e-14).\n",
      "\n",
      "There is a statistically significant difference in time_spend_company between employees who left and employees who stayed (t-statistic = -19.266329594172518, p= 1.745810653156104e-81).\n",
      "\n"
     ]
    }
   ],
   "source": [
    "for i in numerical_variables:\n",
    "    stat, p = stats.ttest_ind(df[i][df['left'] == 0], df[i][df['left'] == 1])\n",
    "    if p < 0.05:\n",
    "        print('There is a statistically significant difference in {} between employees who left and employees who stayed (t-statistic = {}, p= {}).\\n'.format(i, stat, p))\n",
    "    if p > 0.05:\n",
    "        print('There is not a statistically significant difference in {} between employees who left and employees who stayed (t-statistic = {}, p= {}).\\n'.format(i, stat, p))"
   ]
  },
  {
   "cell_type": "markdown",
   "id": "3d954839",
   "metadata": {},
   "source": [
    "There was a statistically significant difference in satisfaction level, number of projects, average monthly work hours, and time spent at the company between employeess who left and who stayed."
   ]
  },
  {
   "cell_type": "code",
   "execution_count": 30,
   "id": "91853371",
   "metadata": {},
   "outputs": [
    {
     "data": {
      "text/html": [
       "<div>\n",
       "<style scoped>\n",
       "    .dataframe tbody tr th:only-of-type {\n",
       "        vertical-align: middle;\n",
       "    }\n",
       "\n",
       "    .dataframe tbody tr th {\n",
       "        vertical-align: top;\n",
       "    }\n",
       "\n",
       "    .dataframe thead th {\n",
       "        text-align: right;\n",
       "    }\n",
       "</style>\n",
       "<table border=\"1\" class=\"dataframe\">\n",
       "  <thead>\n",
       "    <tr style=\"text-align: right;\">\n",
       "      <th></th>\n",
       "      <th></th>\n",
       "      <th>satisfaction_level</th>\n",
       "      <th>last_evaluation</th>\n",
       "      <th>number_project</th>\n",
       "      <th>average_monthly_hours</th>\n",
       "      <th>time_spend_company</th>\n",
       "    </tr>\n",
       "    <tr>\n",
       "      <th>left</th>\n",
       "      <th>promotion_last_5years</th>\n",
       "      <th></th>\n",
       "      <th></th>\n",
       "      <th></th>\n",
       "      <th></th>\n",
       "      <th></th>\n",
       "    </tr>\n",
       "  </thead>\n",
       "  <tbody>\n",
       "    <tr>\n",
       "      <th rowspan=\"2\" valign=\"top\">0</th>\n",
       "      <th>0</th>\n",
       "      <td>0.667250</td>\n",
       "      <td>0.715754</td>\n",
       "      <td>3.785926</td>\n",
       "      <td>198.932585</td>\n",
       "      <td>3.248037</td>\n",
       "    </tr>\n",
       "    <tr>\n",
       "      <th>1</th>\n",
       "      <td>0.673128</td>\n",
       "      <td>0.711282</td>\n",
       "      <td>3.830769</td>\n",
       "      <td>199.451282</td>\n",
       "      <td>3.964103</td>\n",
       "    </tr>\n",
       "    <tr>\n",
       "      <th rowspan=\"2\" valign=\"top\">1</th>\n",
       "      <th>0</th>\n",
       "      <td>0.440061</td>\n",
       "      <td>0.722219</td>\n",
       "      <td>3.887040</td>\n",
       "      <td>208.281392</td>\n",
       "      <td>3.883510</td>\n",
       "    </tr>\n",
       "    <tr>\n",
       "      <th>1</th>\n",
       "      <td>0.492500</td>\n",
       "      <td>0.613750</td>\n",
       "      <td>3.000000</td>\n",
       "      <td>178.625000</td>\n",
       "      <td>3.375000</td>\n",
       "    </tr>\n",
       "  </tbody>\n",
       "</table>\n",
       "</div>"
      ],
      "text/plain": [
       "                            satisfaction_level  last_evaluation  \\\n",
       "left promotion_last_5years                                        \n",
       "0    0                                0.667250         0.715754   \n",
       "     1                                0.673128         0.711282   \n",
       "1    0                                0.440061         0.722219   \n",
       "     1                                0.492500         0.613750   \n",
       "\n",
       "                            number_project  average_monthly_hours  \\\n",
       "left promotion_last_5years                                          \n",
       "0    0                            3.785926             198.932585   \n",
       "     1                            3.830769             199.451282   \n",
       "1    0                            3.887040             208.281392   \n",
       "     1                            3.000000             178.625000   \n",
       "\n",
       "                            time_spend_company  \n",
       "left promotion_last_5years                      \n",
       "0    0                                3.248037  \n",
       "     1                                3.964103  \n",
       "1    0                                3.883510  \n",
       "     1                                3.375000  "
      ]
     },
     "execution_count": 30,
     "metadata": {},
     "output_type": "execute_result"
    }
   ],
   "source": [
    "df.groupby(['left', 'promotion_last_5years']).mean()\n",
    "# people who left and weren't promoted worked on the most projects and worked more hours than their counterparts \n",
    "# (on average)"
   ]
  },
  {
   "cell_type": "markdown",
   "id": "1b2161d4",
   "metadata": {},
   "source": [
    "People who left and were not promoted worked on the most projects and had higher monthly average work hours."
   ]
  },
  {
   "cell_type": "markdown",
   "id": "1e0a09cd",
   "metadata": {},
   "source": [
    "Now I would like to look at some of the relationships between the categorical variables using chi-square test of independence. Particularly of interest will be whether any of the categorical variables are significantly associated with whether the employee left. H(0) will be that the two variables are independent of each other; a p-value of less than 0.05 will be sufficient evidence to allow us to reject the null hypothesis.\n",
    "\n",
    "### Chi-Square Tests for significance between categorical variables"
   ]
  },
  {
   "cell_type": "code",
   "execution_count": 31,
   "id": "9ac9439b",
   "metadata": {},
   "outputs": [
    {
     "data": {
      "text/plain": [
       "(7.905690953130524,\n",
       " 0.5436776070238778,\n",
       " 9,\n",
       " array([[ 825.42039863,  150.57960137],\n",
       "        [ 586.92802936,  107.07197064],\n",
       "        [ 525.19064298,   95.80935702],\n",
       "        [ 508.27629055,   92.72370945],\n",
       "        [ 368.732883  ,   67.267117  ],\n",
       "        [ 569.1679593 ,  103.8320407 ],\n",
       "        [ 580.16228838,  105.83771162],\n",
       "        [2739.2793762 ,  499.7206238 ],\n",
       "        [1540.05178884,  280.94821116],\n",
       "        [1897.79034276,  346.20965724]]))"
      ]
     },
     "execution_count": 31,
     "metadata": {},
     "output_type": "execute_result"
    }
   ],
   "source": [
    "chi2_contingency(pd.crosstab(df.department, df.Work_accident))"
   ]
  },
  {
   "cell_type": "markdown",
   "id": "d1cd7816",
   "metadata": {},
   "source": [
    "Department and work accident appear to be independent from each other because the p-value is equal to 0.5436776070238778 and so we accept the null hypothesis."
   ]
  },
  {
   "cell_type": "code",
   "execution_count": 32,
   "id": "db8deb1d",
   "metadata": {},
   "outputs": [
    {
     "data": {
      "text/plain": [
       "(181.2075023491875,\n",
       " 2.8351225375507266e-34,\n",
       " 9,\n",
       " array([[ 959.47694104,   16.52305896],\n",
       "        [ 682.2510216 ,   11.7489784 ],\n",
       "        [ 610.48686515,   10.51313485],\n",
       "        [ 590.82545242,   10.17454758],\n",
       "        [ 428.61879743,    7.38120257],\n",
       "        [ 661.60653824,   11.39346176],\n",
       "        [ 674.38645651,   11.61354349],\n",
       "        [3184.16579101,   54.83420899],\n",
       "        [1790.17162872,   30.82837128],\n",
       "        [2206.01050788,   37.98949212]]))"
      ]
     },
     "execution_count": 32,
     "metadata": {},
     "output_type": "execute_result"
    }
   ],
   "source": [
    "chi2_contingency(pd.crosstab(df.department, df.promotion_last_5years))"
   ]
  },
  {
   "cell_type": "markdown",
   "id": "2b24e41b",
   "metadata": {},
   "source": [
    "However, the department the employee works in and whether the employee received a promotion in the last 5 years are actually dependent on each other, since the p-value is less than 0.05 (2.8351225375507266e-34); we reject the null hypothesis.  \n",
    "\n",
    "Now I will look at the relationship between the categorical variables with the 'left' variable:"
   ]
  },
  {
   "cell_type": "code",
   "execution_count": 33,
   "id": "e8b3c9ce",
   "metadata": {},
   "outputs": [
    {
     "name": "stdout",
     "output_type": "stream",
     "text": [
      "Because the p-value 9.911242628423175e-43 is less than 0.05, we can reject the null hypothesis and conclude that Work_accident and whether the employee left are significantly associated.\n",
      "\n",
      "Because the p-value 1.6266615348676462e-06 is less than 0.05, we can reject the null hypothesis and conclude that promotion_last_5years and whether the employee left are significantly associated.\n",
      "\n",
      "Because the p-value 0.01329832963300122 is less than 0.05, we can reject the null hypothesis and conclude that department and whether the employee left are significantly associated.\n",
      "\n",
      "Because the p-value 8.984123357404531e-39 is less than 0.05, we can reject the null hypothesis and conclude that salary and whether the employee left are significantly associated.\n",
      "\n"
     ]
    }
   ],
   "source": [
    "# check significance of variables with 'left'\n",
    "for i in categorical_vars:\n",
    "    if i != 'left':\n",
    "        p_value = chi2_contingency(pd.crosstab(df[i], df['left']))[1]\n",
    "        if p_value < 0.05:\n",
    "            print('Because the p-value {} is less than 0.05, we can reject the null hypothesis and conclude that {} and {} are significantly associated.\\n'.format(p_value, i, 'whether the employee left'))\n",
    "        else:\n",
    "            print('Because the p-value {} is greater than 0.05, we accept the null hypothesis and conclude that {} and {} are not significantly associated.\\n'.format(p_value, i, 'whether the employee left'))"
   ]
  },
  {
   "cell_type": "markdown",
   "id": "73b16227",
   "metadata": {},
   "source": [
    "From the chi-square analysis we conclude that whether the employee left is dependent on all the other categorical variables at the 95% significance level."
   ]
  },
  {
   "cell_type": "markdown",
   "id": "78dfb84e",
   "metadata": {},
   "source": [
    "### EDA Observations:\n",
    "\n",
    "In this analysis I examined HR analytics data that measured several variables for their employees:\n",
    "\n",
    "Observations:\n",
    "\n",
    "- The employee retention rate for this company according to this dataset is 83.4%.\n",
    "- There were statistically significant differences in satisfaction level, number of projects, average monthly work hours, and time spent at the company between employeess who left and who stayed.\n",
    "- Previous evaluation scores, time spent at the company, number of projects, and average monthly hours of work alone are not good predictors of satisfaction level.\n",
    "- Whether the employee left or not was significantly related to the other categorical variables in this dataset (occurrence of a work accident, if there was a promotion in the last 5 years, the department they worked in, and the salary of the employee). \n",
    "- The average monthly work hours for an employee at this company is very high at 201 hours.\n",
    "- Human Resources had the highest rate of employee departure relative to the size of the department at 18.8%. The lowest rate after management was R&D at 12.2%.\n",
    "- On average, employees who left the company worked more hours, had higher evaluation scores, and worked on more projects.\n",
    "- Satisfaction levels among the departments were all relatively close at around ~61%; the highest was support and the lowest was accounting. \n",
    "\n",
    "\n",
    "First of all, the employee retention rate was 83.4%; according to the Daily Pay, the average retention rate for a company is ~90%, which means this company is underperforming relative to the average. This alone is indicative of a turnover rate that is higher than expected and cause for further investigating why employees might be dissatisfied at this company.\n",
    "\n",
    "Between the groups of employees who stayed and employees who left, there were significant differences in satisfaction level, number of projects worked on, average monthly work hours, and time spent at the company. On average, employees who left had lower satisfaction levels, worked on more projects, worked more hours, and spent more time at the company. As a starting point for improving employee retention, these aspects of the employee experience should be closely examined -- are these employees not being rewarded sufficiently for the work they are doing? Are promotions being distributed appropriately? The findings of this analysis would indicate not: In the last 5 years, there were 0 promotions in the product management team and only 2 promotions in IT, which is the 4th largest department. The analysis conducted here showed that an employee's decision to leave was significantly dependent on whether an employee was promoted in the last 5 years (as well as occurrence of a work accident, the department they worked in, and the salary of the employee). \n",
    "\n",
    "The Human Resources department had the highest employee turnover rate at almost 20%, while the lowest rate for a department after management was R&D at 12%. These two departments are similar sizes, so perhaps HR management could compare their practices or policies to R&D and make any necessary improvements. Also, the average monthly work hours for this company is roughly 200 hours a month, which is significantly more than the expected 160 hours per month for a 40 hr/week employee. I don't know what industry this company is in, but only 25% of the employees are working 160 hours or less per month; this practice should also be examined to see if more manageable hours can be provided to employees and hopefully improve retention and satisfaction levels. \n",
    "\n",
    "Without more information about the company, it is hard to propose a concrete plan of action to improve retention rates. However, the data here indicates there is an employee retention issue that needs to be addressed. Management could begin with ensuring employees are not being overworked and that employees are being promoted fairly and making fair wages. Since the department one worked in also had a significant effect on whether an employee chose to leave or not, I would recommend they reassess their department policies to make employees feel comfortable and valued (R&D would be a good starting point). Although satisfaction rates were relatively uniform across departments, the company should continue to strive to improve employee satisfaction and hopefully retain more employees."
   ]
  },
  {
   "cell_type": "markdown",
   "id": "1173afe1",
   "metadata": {},
   "source": [
    "## Modeling"
   ]
  },
  {
   "cell_type": "code",
   "execution_count": null,
   "id": "87b93f6a",
   "metadata": {},
   "outputs": [],
   "source": []
  }
 ],
 "metadata": {
  "kernelspec": {
   "display_name": "Python 3 (ipykernel)",
   "language": "python",
   "name": "python3"
  },
  "language_info": {
   "codemirror_mode": {
    "name": "ipython",
    "version": 3
   },
   "file_extension": ".py",
   "mimetype": "text/x-python",
   "name": "python",
   "nbconvert_exporter": "python",
   "pygments_lexer": "ipython3",
   "version": "3.9.7"
  }
 },
 "nbformat": 4,
 "nbformat_minor": 5
}
